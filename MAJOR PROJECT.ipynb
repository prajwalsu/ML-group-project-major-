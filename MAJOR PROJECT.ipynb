{
 "cells": [
  {
   "cell_type": "code",
   "execution_count": null,
   "source": [
    "import pandas as pd \r\n",
    "import matplotlib.pyplot as plt\r\n",
    "import seaborn as sb\r\n",
    "%matplotlib inline\r\n",
    "import warnings     #To ignore warnings\r\n",
    "warnings.filterwarnings(\"ignore\")\r\n",
    "twitter_data_full=pd.read_csv(\"Twitter-data.csv\",encoding=\"ISO-8859–1\")\r\n"
   ],
   "outputs": [],
   "metadata": {}
  },
  {
   "cell_type": "markdown",
   "source": [
    "## EXPLORATORY DATA ANALYSIS"
   ],
   "metadata": {}
  },
  {
   "cell_type": "code",
   "execution_count": null,
   "source": [
    "twitter_data_full.columns "
   ],
   "outputs": [],
   "metadata": {}
  },
  {
   "cell_type": "code",
   "execution_count": null,
   "source": [
    "#Checking for duplicate rows\r\n",
    "twitter_data_full.duplicated().sum()"
   ],
   "outputs": [],
   "metadata": {}
  },
  {
   "cell_type": "code",
   "execution_count": null,
   "source": [
    "twitter_data_full.info()      "
   ],
   "outputs": [],
   "metadata": {}
  },
  {
   "cell_type": "code",
   "execution_count": null,
   "source": [
    "twitter_data_full.head()"
   ],
   "outputs": [],
   "metadata": {}
  },
  {
   "cell_type": "code",
   "execution_count": null,
   "source": [
    "pd.options.display.float_format='{:20,.2f}'.format #Change from scientific notation "
   ],
   "outputs": [],
   "metadata": {}
  },
  {
   "cell_type": "code",
   "execution_count": null,
   "source": [
    "#Checking for unique _unit_id\r\n",
    "twitter_data_full._unit_id.nunique()"
   ],
   "outputs": [],
   "metadata": {}
  },
  {
   "cell_type": "code",
   "execution_count": null,
   "source": [
    "twitter_data_full.describe()"
   ],
   "outputs": [],
   "metadata": {}
  },
  {
   "cell_type": "code",
   "execution_count": null,
   "source": [
    "twitter_data_full.gender.value_counts() "
   ],
   "outputs": [],
   "metadata": {}
  },
  {
   "cell_type": "code",
   "execution_count": null,
   "source": [
    "#Separating into male and female data\r\n",
    "female_data_full=twitter_data_full.loc[twitter_data_full[\"gender\"]==\"female\"]\r\n",
    "male_data_full=twitter_data_full.loc[twitter_data_full[\"gender\"]==\"male\"]"
   ],
   "outputs": [],
   "metadata": {}
  },
  {
   "cell_type": "code",
   "execution_count": null,
   "source": [
    "#To See Distribution Link color in female gender\r\n",
    "link_female=pd.Series(female_data_full.link_color.value_counts())[:10]"
   ],
   "outputs": [],
   "metadata": {}
  },
  {
   "cell_type": "code",
   "execution_count": null,
   "source": [
    "plt.figure(figsize=(10,8))\r\n",
    "sb.barplot(x=link_female.index,y=link_female.values)\r\n",
    "plt.title(\"Top 10 Link colors Used By Female\")\r\n",
    "plt.xlabel(\"Link color\")\r\n",
    "plt.ylabel(\"Frequency\")"
   ],
   "outputs": [],
   "metadata": {}
  },
  {
   "cell_type": "code",
   "execution_count": null,
   "source": [
    "#To see distribution of link color in male gender\r\n",
    "link_male=pd.Series(male_data_full.link_color.value_counts())[:10]\r\n"
   ],
   "outputs": [],
   "metadata": {}
  },
  {
   "cell_type": "code",
   "execution_count": null,
   "source": [
    "plt.figure(figsize=(10,8))\r\n",
    "sb.barplot(x=link_male.index,y=link_male.values)\r\n",
    "plt.title(\"Top 10 Link colors Used By Male\")\r\n",
    "plt.xlabel(\"Link color\")\r\n",
    "plt.ylabel(\"Frequency\")"
   ],
   "outputs": [],
   "metadata": {}
  },
  {
   "cell_type": "code",
   "execution_count": null,
   "source": [
    "#To see distribuition of side-bar color in female gender\r\n",
    "sidebar_female=pd.Series(female_data_full.sidebar_color.value_counts())[:10]\r\n"
   ],
   "outputs": [],
   "metadata": {}
  },
  {
   "cell_type": "code",
   "execution_count": null,
   "source": [
    "plt.figure(figsize=(10,8))\r\n",
    "sb.barplot(x=sidebar_female.index,y=sidebar_female.values)\r\n",
    "plt.title(\"Top 10 Side-bar colors Used By Female\")\r\n",
    "plt.xlabel(\"Side-bar color\")\r\n",
    "plt.ylabel(\"Frequency\")"
   ],
   "outputs": [],
   "metadata": {}
  },
  {
   "cell_type": "code",
   "execution_count": null,
   "source": [
    "#to see the distribution of sidebar color in male gender\r\n",
    "sidebar_male=pd.Series(male_data_full.sidebar_color.value_counts())[:10]\r\n"
   ],
   "outputs": [],
   "metadata": {}
  },
  {
   "cell_type": "code",
   "execution_count": null,
   "source": [
    "plt.figure(figsize=(10,8))\r\n",
    "sb.barplot(x=sidebar_male.index,y=sidebar_male.values)\r\n",
    "plt.title(\"Top 10 Side-bar colors Used By Male\")\r\n",
    "plt.xlabel(\"Side-bar color\")\r\n",
    "plt.ylabel(\"Frequency\")"
   ],
   "outputs": [],
   "metadata": {}
  },
  {
   "cell_type": "code",
   "execution_count": null,
   "source": [
    "#Selecting columns with data we need\r\n",
    "twitter_data=twitter_data_full[[\"text\",\"description\",\"gender:confidence\",\"gender\"]]"
   ],
   "outputs": [],
   "metadata": {}
  },
  {
   "cell_type": "code",
   "execution_count": null,
   "source": [
    "twitter_data.head()"
   ],
   "outputs": [],
   "metadata": {}
  },
  {
   "cell_type": "code",
   "execution_count": null,
   "source": [
    "#Finding data with 100% gender confidence\r\n",
    "full_confidence=(twitter_data[\"gender:confidence\"]==1).sum()"
   ],
   "outputs": [],
   "metadata": {}
  },
  {
   "cell_type": "code",
   "execution_count": null,
   "source": [
    "print(\"Fraction of data having 100% gender confidence= {:.2f}\".format(full_confidence/len(twitter_data)))"
   ],
   "outputs": [],
   "metadata": {}
  },
  {
   "cell_type": "code",
   "execution_count": null,
   "source": [
    "#Taking only rows with 100% gender confidence and then dropping the gender confidence column\r\n",
    "twitter_data=twitter_data.loc[twitter_data[\"gender:confidence\"]==1].drop(\"gender:confidence\", axis=1)"
   ],
   "outputs": [],
   "metadata": {}
  },
  {
   "cell_type": "code",
   "execution_count": null,
   "source": [
    "len(twitter_data)"
   ],
   "outputs": [],
   "metadata": {
    "scrolled": true
   }
  },
  {
   "cell_type": "code",
   "execution_count": null,
   "source": [
    "gender_count=twitter_data.gender.value_counts() "
   ],
   "outputs": [],
   "metadata": {}
  },
  {
   "cell_type": "code",
   "execution_count": null,
   "source": [
    "plt.figure(figsize=(10,8))\r\n",
    "\r\n",
    "sb.barplot(x=gender_count.index,y=gender_count.values)\r\n",
    "plt.title(\"Gender Distribution\")\r\n",
    "plt.xlabel(\"Gender\")\r\n",
    "plt.ylabel(\"Frequency\")\r\n",
    "\r\n"
   ],
   "outputs": [],
   "metadata": {}
  },
  {
   "cell_type": "code",
   "execution_count": null,
   "source": [
    "twitter_data.gender.value_counts()"
   ],
   "outputs": [],
   "metadata": {}
  },
  {
   "cell_type": "code",
   "execution_count": null,
   "source": [
    "twitter_data=twitter_data.loc[twitter_data[\"gender\"]!=\"unknown\"] #Droping rows with gender given as \"unknown\""
   ],
   "outputs": [],
   "metadata": {}
  },
  {
   "cell_type": "code",
   "execution_count": null,
   "source": [
    "twitter_data.info()"
   ],
   "outputs": [],
   "metadata": {}
  },
  {
   "cell_type": "code",
   "execution_count": null,
   "source": [
    "#Fill the missing values in description with \"None\"\r\n",
    "twitter_data[\"description\"]=twitter_data.description.fillna(\"None\")"
   ],
   "outputs": [],
   "metadata": {}
  },
  {
   "cell_type": "code",
   "execution_count": null,
   "source": [
    "#Checking for missing values\r\n",
    "twitter_data.info()"
   ],
   "outputs": [],
   "metadata": {}
  },
  {
   "cell_type": "code",
   "execution_count": null,
   "source": [
    "import re\r\n",
    "import nltk\r\n"
   ],
   "outputs": [],
   "metadata": {}
  },
  {
   "cell_type": "code",
   "execution_count": null,
   "source": [
    "from nltk.tokenize import word_tokenize\r\n",
    "from nltk.corpus import stopwords\r\n",
    "stopwords_list=stopwords.words(\"English\") #Making list of stopwords\r\n"
   ],
   "outputs": [],
   "metadata": {}
  },
  {
   "cell_type": "code",
   "execution_count": null,
   "source": [
    "stopwords_list"
   ],
   "outputs": [],
   "metadata": {}
  },
  {
   "cell_type": "code",
   "execution_count": null,
   "source": [
    "#Function for cleaning \"text\"\r\n",
    "def cleaning(text):\r\n",
    "    text=re.sub(\"<[^>]*>\",\" \",text) #remove html\r\n",
    "    text=re.sub(\"https?://[A-Za-z0-9./]+\",\" \",text) #remove url\r\n",
    "    text=re.sub(\"_+\",\" \",text)#remove underscore \r\n",
    "    text=re.sub(\"[^a-zA-z]\",\" \",text) #remove symbols and digits\r\n",
    "    text=text.lower() #converting to lowercase\r\n",
    "    word_list=word_tokenize(text)\r\n",
    "    clean_words=[word for word in word_list if not word in stopwords_list ] #removing stopwords \r\n",
    "    text=\" \".join(clean_words) #returns clean text\r\n",
    "    return text"
   ],
   "outputs": [],
   "metadata": {}
  },
  {
   "cell_type": "code",
   "execution_count": null,
   "source": [
    "#Cleaning \"text\" and \"description\" columns\r\n",
    "twitter_data[\"clean_text\"]=twitter_data[\"text\"].apply(lambda x: cleaning(x))\r\n",
    "twitter_data[\"clean_description\"]=twitter_data.description.apply(lambda x: cleaning(x))   \r\n"
   ],
   "outputs": [],
   "metadata": {}
  },
  {
   "cell_type": "code",
   "execution_count": null,
   "source": [
    "twitter_data"
   ],
   "outputs": [],
   "metadata": {}
  },
  {
   "cell_type": "markdown",
   "source": [
    "# Which gender makes more typos in their tweets?\n"
   ],
   "metadata": {}
  },
  {
   "cell_type": "code",
   "execution_count": null,
   "source": [
    "#separating the data into male and female data\r\n",
    "female_data=twitter_data.loc[twitter_data.gender==\"female\"]\r\n",
    "male_data=twitter_data.loc[twitter_data.gender==\"male\"]"
   ],
   "outputs": [],
   "metadata": {}
  },
  {
   "cell_type": "code",
   "execution_count": null,
   "source": [
    "from spellchecker import SpellChecker\r\n",
    "\r\n",
    "\r\n",
    "spell=SpellChecker() #for checking spellings/typos"
   ],
   "outputs": [],
   "metadata": {}
  },
  {
   "cell_type": "code",
   "execution_count": null,
   "source": [
    "#function for finding typo count in \"text\"\r\n",
    "def find_typos(text):\r\n",
    "    text=re.sub(\"<[^>]*>\",\" \",text) #remove html\r\n",
    "    text=re.sub(\"https?://[A-Za-z0-9./]+\",\" \",text) #remove url\r\n",
    "    text=re.sub(\"@[A-Za-z0-9_]+\",\" \",text)#remove tags          #To avoid counting tags and hashtags as a typo\r\n",
    "    text=re.sub(\"#[A-Za-z0-9_]+\",\" \",text) #remove hashtags\r\n",
    "    text=re.sub(\"_+\",\" \",text)#remove underscore \r\n",
    "    text=re.sub(\"[^a-zA-z]\",\" \",text) #remove symbols and digits\r\n",
    "    text=text.lower() #converting to lowercase\r\n",
    "    word_list=text.split() #splitting the text\r\n",
    "    typolist=[typo for typo in spell.unknown(word_list) if not typo ==set()]  #list of typos\r\n",
    "    return len(typolist) #returns no. of typos in \"text\" "
   ],
   "outputs": [],
   "metadata": {}
  },
  {
   "cell_type": "code",
   "execution_count": null,
   "source": [
    "#New column that gives typo count in the \"text\"\r\n",
    "female_data[\"Typo_count\"]=female_data.text.apply(lambda x:find_typos(x))\r\n",
    "female_data"
   ],
   "outputs": [],
   "metadata": {}
  },
  {
   "cell_type": "code",
   "execution_count": null,
   "source": [
    "male_data[\"Typo_count\"]=male_data.text.apply(lambda x:find_typos(x))\r\n",
    "male_data"
   ],
   "outputs": [],
   "metadata": {}
  },
  {
   "cell_type": "code",
   "execution_count": null,
   "source": [
    "#comparing typos in male and female\r\n",
    "import numpy as np\r\n",
    "plt.figure(figsize=(10,8))\r\n",
    "plt.hist(female_data[\"Typo_count\"],bins=np.arange(0,8),color=\"yellow\",label=\"Female\")\r\n",
    "plt.hist(male_data[\"Typo_count\"],bins=np.arange(0,8),color=\"red\",label=\"Male\")\r\n",
    "plt.xlabel(\"Typo counts\")\r\n",
    "plt.ylabel(\"Frequency\")\r\n",
    "plt.legend()\r\n",
    "plt.title(\"Distribution of Typo counts in both genders\")\r\n"
   ],
   "outputs": [],
   "metadata": {}
  },
  {
   "cell_type": "code",
   "execution_count": null,
   "source": [
    "print(\"Total number of typos made by female\",female_data.Typo_count.sum())\r\n",
    "print(\"Total number of typos made by male\",male_data.Typo_count.sum())\r\n",
    "print(\"Female gender has more typos in their text\")"
   ],
   "outputs": [],
   "metadata": {}
  },
  {
   "cell_type": "markdown",
   "source": [
    "### Female gender has more typos in their tweet"
   ],
   "metadata": {}
  },
  {
   "cell_type": "markdown",
   "source": [
    "## What are the most common emotions/words used by Males and Females?"
   ],
   "metadata": {}
  },
  {
   "cell_type": "code",
   "execution_count": null,
   "source": [
    "from nltk.stem.wordnet import WordNetLemmatizer\r\n",
    "lem=WordNetLemmatizer() #To lemmatize the words\r\n",
    "from collections import Counter\r\n",
    "word_count = Counter() #To count the words"
   ],
   "outputs": [],
   "metadata": {}
  },
  {
   "cell_type": "code",
   "execution_count": null,
   "source": [
    "\r\n",
    "#function to find word count\r\n",
    "def wordcounts(df):\r\n",
    "    for i in range(len(df)):\r\n",
    "        word_list=(str(df.clean_text.values[i])).split(' ')\r\n",
    "        for word in word_list:\r\n",
    "            lem_word=lem.lemmatize(word) #finding rootword\r\n",
    "            word_count[lem_word]+=1\r\n",
    "    return word_count.most_common(20) #Returns 20 most common words in the \"clean_text\" column in the dataframe\r\n"
   ],
   "outputs": [],
   "metadata": {}
  },
  {
   "cell_type": "code",
   "execution_count": null,
   "source": [
    "# 20 most common words used by female\r\n",
    "female_word_counts=wordcounts(female_data)\r\n",
    "female_word_counts"
   ],
   "outputs": [],
   "metadata": {}
  },
  {
   "cell_type": "code",
   "execution_count": null,
   "source": [
    "\r\n",
    "top20_words_female=[female_word_counts[i][0] for i in range(20)]\r\n",
    "top20_count_female=[female_word_counts[i][1] for i in range(20)]"
   ],
   "outputs": [],
   "metadata": {}
  },
  {
   "cell_type": "code",
   "execution_count": null,
   "source": [
    "#plotting 20 most common female words along with frequency\r\n",
    "plt.figure(figsize=(15,8))\r\n",
    "sb.barplot(x=top20_words_female,y=top20_count_female)\r\n",
    "plt.title(\"Most common words used by Female\")\r\n",
    "plt.ylabel(\"Frequency\")\r\n",
    "plt.xlabel(\"Words\")\r\n"
   ],
   "outputs": [],
   "metadata": {}
  },
  {
   "cell_type": "code",
   "execution_count": null,
   "source": [
    "# 20 most common words used by male\r\n",
    "male_word_counts=wordcounts(male_data)\r\n",
    "male_word_counts"
   ],
   "outputs": [],
   "metadata": {}
  },
  {
   "cell_type": "code",
   "execution_count": null,
   "source": [
    "top20_words_male=[male_word_counts[i][0] for i in range(20)]\r\n",
    "top20_count_male=[male_word_counts[i][1] for i in range(20)]"
   ],
   "outputs": [],
   "metadata": {}
  },
  {
   "cell_type": "code",
   "execution_count": null,
   "source": [
    "#plotting 20 most common male words along with frequency\r\n",
    "plt.figure(figsize=(15,8))\r\n",
    "sb.barplot(x=top20_words_male,y=top20_count_male)\r\n",
    "plt.title(\"Most common words used by Male\")\r\n",
    "plt.ylabel(\"Frequency\")\r\n",
    "plt.xlabel(\"Words\")\r\n"
   ],
   "outputs": [],
   "metadata": {
    "scrolled": false
   }
  },
  {
   "cell_type": "code",
   "execution_count": null,
   "source": [
    "from wordcloud import WordCloud, ImageColorGenerator #To generate word cloud\r\n"
   ],
   "outputs": [],
   "metadata": {}
  },
  {
   "cell_type": "code",
   "execution_count": null,
   "source": [
    "#Generating word clouds\r\n",
    "#For female words\r\n",
    "total_text_female = \" \".join(lem.lemmatize(word) for word in female_data.clean_text)\r\n",
    "plt.figure(figsize=(10,10))\r\n",
    "wordcloud = WordCloud(max_font_size=50,stopwords=None,relative_scaling=1, max_words=200, background_color=\"white\").generate(total_text_female)\r\n",
    "plt.title(\"FEMALE WORD CLOUD\")\r\n",
    "# Display the generated image:\r\n",
    "plt.imshow(wordcloud, interpolation='bilinear')\r\n",
    "plt.axis(\"off\")\r\n",
    "plt.show()"
   ],
   "outputs": [],
   "metadata": {}
  },
  {
   "cell_type": "code",
   "execution_count": null,
   "source": [
    "#For male words\r\n",
    "total_text_male = \" \".join(lem.lemmatize(word) for word in male_data.clean_text)\r\n",
    "plt.figure(figsize=(10,10))\r\n",
    "wordcloud = WordCloud(max_font_size=50,stopwords=None,relative_scaling=1,max_words=200, background_color=\"white\").generate(total_text_male)\r\n",
    "plt.title(\"MALE WORD CLOUD\")\r\n",
    "# Display the generated image:\r\n",
    "plt.imshow(wordcloud, interpolation='bilinear')\r\n",
    "plt.axis(\"off\")\r\n",
    "plt.show()"
   ],
   "outputs": [],
   "metadata": {}
  },
  {
   "cell_type": "code",
   "execution_count": null,
   "source": [
    "#Creating New column by concatenating the \"clean_description\" and \"clean_text\" columns\r\n",
    "twitter_data[\"Total_text_info\"]=twitter_data[\"clean_text\"].str.cat(twitter_data[\"clean_description\"], sep=\" \")"
   ],
   "outputs": [],
   "metadata": {}
  },
  {
   "cell_type": "code",
   "execution_count": null,
   "source": [
    "twitter_data.head()"
   ],
   "outputs": [],
   "metadata": {}
  },
  {
   "cell_type": "code",
   "execution_count": null,
   "source": [
    "twitter_data[\"Total_text_info\"].values[47]"
   ],
   "outputs": [],
   "metadata": {}
  },
  {
   "cell_type": "code",
   "execution_count": null,
   "source": [
    "from sklearn.feature_extraction.text import CountVectorizer\r\n",
    "cv=CountVectorizer() #to vectorize text data\r\n"
   ],
   "outputs": [],
   "metadata": {}
  },
  {
   "cell_type": "code",
   "execution_count": null,
   "source": [
    " #Vectorize \"Total_text_info\"     #independent variable    \r\n",
    "X=cv.fit_transform(twitter_data[\"Total_text_info\"])"
   ],
   "outputs": [],
   "metadata": {}
  },
  {
   "cell_type": "code",
   "execution_count": null,
   "source": [
    "#\"gender\" is the dependent variable\r\n",
    "y=twitter_data[\"gender\"]"
   ],
   "outputs": [],
   "metadata": {}
  },
  {
   "cell_type": "code",
   "execution_count": null,
   "source": [
    "from sklearn.model_selection import train_test_split\r\n",
    "X_train, X_test, y_train, y_test=train_test_split(X,y,random_state=23) #Splitting into train and test sets\r\n",
    "from sklearn.metrics import accuracy_score  #For Checking Accuracy"
   ],
   "outputs": [],
   "metadata": {}
  },
  {
   "cell_type": "code",
   "execution_count": null,
   "source": [
    "X_train.shape, X_test.shape, y_train.shape, y_test.shape"
   ],
   "outputs": [],
   "metadata": {}
  },
  {
   "cell_type": "markdown",
   "source": [
    "## Building Models"
   ],
   "metadata": {}
  },
  {
   "cell_type": "code",
   "execution_count": null,
   "source": [
    "from sklearn.naive_bayes import MultinomialNB\r\n",
    "from sklearn.linear_model import LogisticRegression\r\n",
    "from sklearn.svm import SVC"
   ],
   "outputs": [],
   "metadata": {}
  },
  {
   "cell_type": "markdown",
   "source": [
    "### MultinomialNB"
   ],
   "metadata": {}
  },
  {
   "cell_type": "code",
   "execution_count": null,
   "source": [
    "#Checking accuracy for different alpha values\r\n",
    "alpha=[0.01,0.05,0.03,0.1,0.3,0.5,0.6,0.7,0.8,0.9,1]\r\n",
    "mb_accuracy={}\r\n",
    "for i in alpha:\r\n",
    "    mb=MultinomialNB(alpha=i,fit_prior=True)\r\n",
    "    mb.fit(X_train,y_train)\r\n",
    "    ypred=mb.predict(X_test)\r\n",
    "    mb_accuracy[i]=accuracy_score(y_test,ypred)\r\n",
    "mb_accuracy=sorted(mb_accuracy.items(),key=lambda x:x[1],reverse=True) #Sorting accuracy in descending order"
   ],
   "outputs": [],
   "metadata": {}
  },
  {
   "cell_type": "code",
   "execution_count": null,
   "source": [
    "mb_accuracy"
   ],
   "outputs": [],
   "metadata": {}
  },
  {
   "cell_type": "code",
   "execution_count": null,
   "source": [
    "#Training with best model\r\n",
    "mb=MultinomialNB(alpha=1,fit_prior=True)\r\n",
    "mb.fit(X_train,y_train)\r\n",
    "ypred=mb.predict(X_test)\r\n",
    "mb_accuracy_final=accuracy_score(y_test,ypred)"
   ],
   "outputs": [],
   "metadata": {}
  },
  {
   "cell_type": "markdown",
   "source": [
    "### Logistic Regression"
   ],
   "metadata": {}
  },
  {
   "cell_type": "code",
   "execution_count": null,
   "source": [
    "#Checking accuracy for different c values\r\n",
    "c=[0.01,0.03,0.05,0.1,0.2,0.3,0.4,0.5,0.6,0.7,0.8,0.9,1]\r\n",
    "lg_accuracy={}\r\n",
    "for i in c:\r\n",
    "    lg=LogisticRegression(multi_class=\"ovr\",C=i,max_iter=200,random_state=23)\r\n",
    "    lg.fit(X_train,y_train)\r\n",
    "    ypred=lg.predict(X_test)\r\n",
    "    lg_accuracy[i]=accuracy_score(y_test,ypred)\r\n",
    "lg_accuracy=sorted(lg_accuracy.items(),key=lambda x:x[1],reverse=True) #Sorting accuracy in descending order"
   ],
   "outputs": [],
   "metadata": {}
  },
  {
   "cell_type": "code",
   "execution_count": null,
   "source": [
    "lg_accuracy"
   ],
   "outputs": [],
   "metadata": {}
  },
  {
   "cell_type": "code",
   "execution_count": null,
   "source": [
    "#Training with best model\r\n",
    "lg=LogisticRegression(multi_class=\"ovr\",C=.1,max_iter=200,random_state=23)\r\n",
    "lg.fit(X_train,y_train)\r\n",
    "ypred=lg.predict(X_test)\r\n",
    "lg_accuracy_final=accuracy_score(y_test,ypred)"
   ],
   "outputs": [],
   "metadata": {}
  },
  {
   "cell_type": "markdown",
   "source": [
    "### Support Vector Machine"
   ],
   "metadata": {}
  },
  {
   "cell_type": "code",
   "execution_count": null,
   "source": [
    "#Checking Accuracy for different C values\r\n",
    "C=[1,2,3,4,5]\r\n",
    "svm_accuracy={}\r\n",
    "for i in C:\r\n",
    "    svc=SVC(C=i,random_state=23)\r\n",
    "    svc.fit(X_train,y_train)\r\n",
    "    ypred=svc.predict(X_test)\r\n",
    "    svm_accuracy[i]=accuracy_score(y_test,ypred)\r\n",
    "svm_accuracy=sorted(svm_accuracy.items(),key=lambda x:x[1],reverse=True) #Sorting accuracy in descending order"
   ],
   "outputs": [],
   "metadata": {}
  },
  {
   "cell_type": "code",
   "execution_count": null,
   "source": [
    "svm_accuracy"
   ],
   "outputs": [],
   "metadata": {}
  },
  {
   "cell_type": "code",
   "execution_count": null,
   "source": [
    "#Training with best model\r\n",
    "svc=SVC(C=2,random_state=23)\r\n",
    "svc.fit(X_train,y_train)\r\n",
    "ypred=svc.predict(X_test)\r\n",
    "svm_accuracy_final=accuracy_score(y_test,ypred)"
   ],
   "outputs": [],
   "metadata": {}
  },
  {
   "cell_type": "code",
   "execution_count": null,
   "source": [
    "#Comparison of accuracy of the models"
   ],
   "outputs": [],
   "metadata": {}
  },
  {
   "cell_type": "code",
   "execution_count": null,
   "source": [
    "import numpy as np"
   ],
   "outputs": [],
   "metadata": {}
  },
  {
   "cell_type": "code",
   "execution_count": null,
   "source": [
    "Models=[\"MultinomialNB\",\"Logistic Regression\",\"Support Vector Machine\"]\r\n",
    "Accuracy=[mb_accuracy_final*100, lg_accuracy_final*100,svm_accuracy_final*100]\r\n",
    "xpos=np.arange(0,3)\r\n",
    "plt.figure(figsize=(10,6))\r\n",
    "plt.bar(xpos,Accuracy,color=\"green\")\r\n",
    "plt.xticks(xpos,Models)\r\n",
    "plt.xlabel(\"Model\")\r\n",
    "plt.ylabel(\"%Accuracy\")\r\n",
    "plt.title(\"Comparison Of The Models\")\r\n"
   ],
   "outputs": [],
   "metadata": {}
  },
  {
   "cell_type": "code",
   "execution_count": null,
   "source": [
    "print(\" Accuracy for MultinomialNB={:.2f}%\".format(Accuracy[0]))\r\n",
    "print(\" Accuracy for Logistic Regression={:.2f}%\".format(Accuracy[1]))\r\n",
    "print(\" Accuracy for Support Vector Machine={:.2f}%\".format(Accuracy[2]))"
   ],
   "outputs": [],
   "metadata": {}
  },
  {
   "cell_type": "markdown",
   "source": [
    "### MultinomialNB model suits best for the given problem"
   ],
   "metadata": {}
  },
  {
   "cell_type": "markdown",
   "source": [
    "## Building Ensemble Model"
   ],
   "metadata": {}
  },
  {
   "cell_type": "code",
   "execution_count": null,
   "source": [
    "from sklearn.ensemble import VotingClassifier\r\n",
    "ensem_model=VotingClassifier(estimators=[('logistic reg', lg),(\"SVM\",svc),(\"multinomial\",mb)], voting='hard') \r\n",
    "ensem_model.fit(X_train,y_train)\r\n",
    "ypred=ensem_model.predict(X_test)\r\n",
    "Ensemble_accuracy=accuracy_score(y_test,ypred)"
   ],
   "outputs": [],
   "metadata": {}
  },
  {
   "cell_type": "code",
   "execution_count": null,
   "source": [
    "\r\n",
    "print(\"Ensemble Model Accuracy is {:.2f}%\".format(Ensemble_accuracy*100))"
   ],
   "outputs": [],
   "metadata": {}
  },
  {
   "cell_type": "code",
   "execution_count": null,
   "source": [
    "from sklearn.metrics import confusion_matrix\r\n",
    "from sklearn.metrics import classification_report"
   ],
   "outputs": [],
   "metadata": {}
  },
  {
   "cell_type": "code",
   "execution_count": null,
   "source": [
    "print(\"Confusion Matrix\\n\",confusion_matrix(y_test,ypred))"
   ],
   "outputs": [],
   "metadata": {}
  },
  {
   "cell_type": "code",
   "execution_count": null,
   "source": [
    "print(\"Classification Report\\n\",classification_report(y_test,ypred))"
   ],
   "outputs": [],
   "metadata": {}
  },
  {
   "cell_type": "code",
   "execution_count": null,
   "source": [],
   "outputs": [],
   "metadata": {}
  }
 ],
 "metadata": {
  "kernelspec": {
   "name": "python3",
   "display_name": "Python 3.9.7 64-bit"
  },
  "language_info": {
   "codemirror_mode": {
    "name": "ipython",
    "version": 3
   },
   "file_extension": ".py",
   "mimetype": "text/x-python",
   "name": "python",
   "nbconvert_exporter": "python",
   "pygments_lexer": "ipython3",
   "version": "3.9.7"
  },
  "interpreter": {
   "hash": "a8b3064693105eae53dcbaff8a3a8eaf0cba0adecb95dee1c24abb04562eeea5"
  }
 },
 "nbformat": 4,
 "nbformat_minor": 4
}